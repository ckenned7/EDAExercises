{
 "cells": [
  {
   "cell_type": "code",
   "execution_count": 2,
   "id": "01262a34",
   "metadata": {},
   "outputs": [],
   "source": [
    "import pandas as pd\n"
   ]
  },
  {
   "cell_type": "code",
   "execution_count": 9,
   "id": "dec32b46",
   "metadata": {
    "scrolled": true
   },
   "outputs": [
    {
     "name": "stdout",
     "output_type": "stream",
     "text": [
      "The series values are: [10 20 30 40 50]\n",
      "The index values are: [0 1 2 3 4]\n",
      "\n",
      "\n",
      "The s_tuple series values are: ['apple' 'banana' 'cherry']\n",
      "The s_tuple index values are: [0 1 2]\n",
      "\n",
      "\n",
      "The s_dictionary series values are: ['Ford' 'Mustang' 1964]\n",
      "The s_dictionary series index values are: ['brand' 'model' 'year']\n"
     ]
    }
   ],
   "source": [
    "s1 = pd.Series([10,20,30,40,50])\n",
    "s_tuple = pd.Series((\"apple\", \"banana\", \"cherry\"))\n",
    "s_dictionary = {\"brand\": \"Ford\", \n",
    "                \"model\": \"Mustang\", \n",
    "                \"year\": 1964}\n",
    "car = pd.Series(s_dictionary)\n",
    "print(\"The series values are:\", s1.values)\n",
    "print(\"The index values are:\", s1.index.values)\n",
    "print(\"\\n\")\n",
    "print(\"The s_tuple series values are:\",s_tuple.values)\n",
    "print(\"The s_tuple index values are:\", s_tuple.index.values)\n",
    "print(\"\\n\")\n",
    "print(\"The s_dictionary series values are:\", car.values)\n",
    "print(\"The s_dictionary series index values are:\", car.index.values)"
   ]
  },
  {
   "cell_type": "code",
   "execution_count": 15,
   "id": "0af583a7",
   "metadata": {},
   "outputs": [
    {
     "name": "stdout",
     "output_type": "stream",
     "text": [
      "Subject Student Marks \n",
      " English    80\n",
      "Science    93\n",
      "Social     78\n",
      "Tamil      85\n",
      "Maths      97\n",
      "dtype: int64\n"
     ]
    }
   ],
   "source": [
    "s2 = pd.Series([80,93,78,85,97], index = ['English','Science','Social','Tamil','Maths'])\n",
    "print('Subject', 'Student Marks', \"\\n\",s2)"
   ]
  },
  {
   "cell_type": "code",
   "execution_count": 17,
   "id": "cbea1969",
   "metadata": {},
   "outputs": [
    {
     "data": {
      "text/plain": [
       "80"
      ]
     },
     "execution_count": 17,
     "metadata": {},
     "output_type": "execute_result"
    }
   ],
   "source": [
    "s2[0]"
   ]
  },
  {
   "cell_type": "code",
   "execution_count": 18,
   "id": "d733f23b",
   "metadata": {},
   "outputs": [
    {
     "data": {
      "text/plain": [
       "Science    93\n",
       "Social     78\n",
       "Tamil      85\n",
       "dtype: int64"
      ]
     },
     "execution_count": 18,
     "metadata": {},
     "output_type": "execute_result"
    }
   ],
   "source": [
    "s2[1:4]"
   ]
  },
  {
   "cell_type": "code",
   "execution_count": 20,
   "id": "648e317a",
   "metadata": {},
   "outputs": [
    {
     "data": {
      "text/plain": [
       "85"
      ]
     },
     "execution_count": 20,
     "metadata": {},
     "output_type": "execute_result"
    }
   ],
   "source": [
    "s2['Tamil']"
   ]
  },
  {
   "cell_type": "code",
   "execution_count": 23,
   "id": "77f5522d",
   "metadata": {},
   "outputs": [
    {
     "name": "stdout",
     "output_type": "stream",
     "text": [
      "Fruits and prices\n",
      " Orange         80\n",
      "Apples        210\n",
      "Bananas        50\n",
      "Grapes         90\n",
      "Watermelon     70\n",
      "dtype: int64\n",
      "The price per kg of grapes is: 90\n"
     ]
    }
   ],
   "source": [
    "dict_fruits = { 'Orange':80,\n",
    "          'Apples':210,\n",
    "          'Bananas':50,\n",
    "         'Grapes':90,\n",
    "         'Watermelon':70}\n",
    "\n",
    "fruits = pd.Series(dict_fruits)\n",
    "print(\"Fruits and prices\" \"\\n\", fruits)\n",
    "print(\"The price per kg of grapes is:\", fruits['Grapes'])"
   ]
  },
  {
   "cell_type": "code",
   "execution_count": 25,
   "id": "5e683db1",
   "metadata": {},
   "outputs": [
    {
     "name": "stdout",
     "output_type": "stream",
     "text": [
      "The dataframe created from series is: \n",
      "          Student1\n",
      "English        80\n",
      "Science        93\n",
      "Social         78\n",
      "Tamil          85\n",
      "Maths          97\n"
     ]
    }
   ],
   "source": [
    "df_marks = pd.DataFrame(s2, columns=['Student1'])\n",
    "print(\"The dataframe created from series is: \" \"\\n\",df_marks)"
   ]
  },
  {
   "cell_type": "code",
   "execution_count": 27,
   "id": "77f5693a",
   "metadata": {},
   "outputs": [
    {
     "name": "stdout",
     "output_type": "stream",
     "text": [
      "The Person table details are:\n",
      "           height  weight\n",
      "Person 1     5.3      65\n",
      "Person 2     6.2      89\n",
      "Person 3     5.8      75\n",
      "Person 4     5.0      60\n",
      "Person 5     5.5      59\n"
     ]
    }
   ],
   "source": [
    "height = pd.Series([5.3, 6.2,5.8,5.0,5.5], index=['Person 1','Person 2','Person 3','Person 4','Person 5'])\n",
    "weight = pd.Series([65,89,75,60,59], index=['Person 1','Person 2','Person 3','Person 4','Person 5'])\n",
    "df_person = pd.DataFrame({'height': height, 'weight': weight})\n",
    "print(\"The Person table details are:\" \"\\n\", df_person)"
   ]
  },
  {
   "cell_type": "code",
   "execution_count": null,
   "id": "340da858",
   "metadata": {},
   "outputs": [],
   "source": []
  }
 ],
 "metadata": {
  "kernelspec": {
   "display_name": "Python 3 (ipykernel)",
   "language": "python",
   "name": "python3"
  },
  "language_info": {
   "codemirror_mode": {
    "name": "ipython",
    "version": 3
   },
   "file_extension": ".py",
   "mimetype": "text/x-python",
   "name": "python",
   "nbconvert_exporter": "python",
   "pygments_lexer": "ipython3",
   "version": "3.9.7"
  }
 },
 "nbformat": 4,
 "nbformat_minor": 5
}
